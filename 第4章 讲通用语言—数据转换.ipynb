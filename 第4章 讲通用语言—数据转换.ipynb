{
 "cells": [
  {
   "cell_type": "markdown",
   "metadata": {},
   "source": [
    "## 通用语言：讲不同语言的人在对话中采用的一种公共标准。将数据从一种格式转换为另一种格式。"
   ]
  },
  {
   "cell_type": "markdown",
   "metadata": {},
   "source": [
    "### 1.  基于工具的快速转换\n",
    "\n",
    "1.1 电子表格到CSV:excel另存为，缺点CSV只能描述一组数据集，无法保存来自多个工作表的数据，因此若你有多个工作表的话，需要把每个工作表单独保存为CSV\n",
    "    \n",
    "1.2 从电子表格到JSON\n",
    "\n",
    "1.3 使用phpMyAdmin从SQL语句中生成CSV或JSON\n",
    "\n",
    "A.直接从phpMyAdmin工具进行转换\n",
    "\n",
    "B.使用MySQL命令以自定义的格式输出CSV文件，但是不能输出JSON文件"
   ]
  },
  {
   "cell_type": "markdown",
   "metadata": {},
   "source": [
    "####  使用mysql命令以自定义的格式输出csv文件：得到指定名字 employees.csc的逗号分隔文件，这个文件会在当前文件夹中生成”\n",
    "\n",
    "SELECT CONCAT(firstname,\"\",lastname) as name,email_id \n",
    "\n",
    "INTO OUTFILE \"enronEmployees.csv\"     # into outfile\n",
    "\n",
    "FIELDS TEMINATED BY \",\" OPTIONALLY ENCLOSED BY '\"'  #fields terninated by ',' optionally enclosed by '\"'\n",
    "\n",
    "LINES TERMINATED BY '\\n '     #lines terninated by \"\\n\"\n",
    "\n",
    "FROM emplyeelist;"
   ]
  },
  {
   "cell_type": "markdown",
   "metadata": {},
   "source": [
    "### 2. 使用 Python 实现数据转换"
   ]
  },
  {
   "cell_type": "markdown",
   "metadata": {},
   "source": [
    "#### 2.1  使用python 实现 csv -> json 的数据转换：使用内置的csv 和 json 库"
   ]
  },
  {
   "cell_type": "code",
   "execution_count": 7,
   "metadata": {},
   "outputs": [],
   "source": [
    "import json\n",
    "import csv\n",
    "import codecs\n",
    "\n",
    "# 读取 csv文件\n",
    "with codecs.open(\"train.csv\",encoding=\"utf-8\") as file:  #将train文件以utf-8的形式写入\n",
    "    file_csv=csv.DictReader(file)\n",
    "    output='['\n",
    "    # 处理每一个目录\n",
    "    for row in file_csv:\n",
    "        # 两个实体之间加入逗号\n",
    "        output+=json.dumps(row)+','\n",
    "    output=output.rstrip(',')+']'\n",
    "# 把文件写入到磁盘中去\n",
    "f=open('trainPy.json','w')\n",
    "f.write(output)\n",
    "f.close()"
   ]
  },
  {
   "cell_type": "markdown",
   "metadata": {},
   "source": [
    "##### 注意：open()函数不能用来处理utf-8字符。因此可以用两种方法来过滤utf-8字符，或是改变文件写入的方式\n",
    "\n",
    "方法一：过滤utf-8字符\n",
    "\n",
    "方法二：以utf-8字符写入文件：在打开文件的时候使用支持utf-8的codecs或io库。在文件的上方\n",
    "添加一行导入编码库的代码，然后像下面这样操作即可：\n",
    "\n",
    "import codecs\n",
    "f=codecs.open('outfile.txt','a+','utf-8')\n",
    "\n",
    "或\n",
    "\n",
    "import io\n",
    "f=io.open('outfile.text','a+',encoding='utf8')\n"
   ]
  },
  {
   "cell_type": "markdown",
   "metadata": {},
   "source": [
    "#### 2.2 使用csvkit 实现csv 到 json 的数据转换：依赖csvkit的python工具包"
   ]
  },
  {
   "cell_type": "markdown",
   "metadata": {},
   "source": [
    "import csvkit\n",
    "\n",
    "csvjson train.csv > trainPy2.json\n",
    "\n",
    "csvjson train.csv -c 1,3 > FirstThirdCols.csv  # csvcut:提取任意指定字段中的数据（分别提\n",
    "\n",
    "取第一列和第三列数据）"
   ]
  },
  {
   "cell_type": "markdown",
   "metadata": {},
   "source": [
    "#### 2.3 使用python实现 json->csv 的 数据转换"
   ]
  },
  {
   "cell_type": "code",
   "execution_count": 15,
   "metadata": {},
   "outputs": [],
   "source": [
    "import json\n",
    "import csv \n",
    "import codecs\n",
    "with open(\"trainPy.json\",\"r\") as f:  #将train文件以utf-8的形式写入\n",
    "    dicts=json.load(f)\n",
    "out=codecs.open('train2.csv','w',encoding='utf-8')\n",
    "writer=csv.DictWriter(out,dicts[0].keys())\n",
    "writer.writeheader()\n",
    "writer.writerows(dicts)\n",
    "out.close()"
   ]
  },
  {
   "cell_type": "markdown",
   "metadata": {},
   "source": [
    "##### 注意：open函数最常用的使用方法：文件句柄=open('文件路径','模式','编码方式')\n",
    "\n",
    "1、关于文件路径：\n",
    "\n",
    "A.使用相对路径；B.一种绝对路径如' C:/Users/shu/Desktop/python/test.txt'\n",
    "\n",
    "2、打开模式\n",
    "\n",
    "r    以只读方式打开文件。这是默认模式。文件必须存在，不存在抛出错误\n",
    "\n",
    "rb    以二进制格式打开一个文件用于只读。\n",
    "\n",
    "r+    打开一个文件用于读写。文件指针将会放在文件的开头。读完就追加。\n",
    "\n",
    "w    打开一个文件只用于写入。如果该文件已存在则将其覆盖。如果该文件不存在，创建新文件。\n",
    "\n",
    "w+    打开一个文件用于读写。如果该文件已存在则将其覆盖。如果该文件不存在，创建新文件。\n",
    "\n",
    "a    打开一个文件用于追加。如果该文件已存在，文件指针将会放在文件的结尾。也就是说，新的内容将会被写入到已有内容之后。如果该文件不存在，创建新文件进行写入。\n",
    "\n",
    "a+    打开一个文件用于读写。如果该文件已存在，文件指针将会放在文件的结尾。文件打开时会是追加模式。如果该文件不存在，创建新文件用于读写。\n",
    "\n",
    "3、编码方式\n",
    "\n",
    "A.win系统默认是gbk编码的，所以桌面生成的TXT之类的都是gbk编码的。\n",
    "\n",
    "B.出现乱码正常都是原文件的编码方式和打开指定的编码不一致所致"
   ]
  }
 ],
 "metadata": {
  "kernelspec": {
   "display_name": "Python 3",
   "language": "python",
   "name": "python3"
  },
  "language_info": {
   "codemirror_mode": {
    "name": "ipython",
    "version": 3
   },
   "file_extension": ".py",
   "mimetype": "text/x-python",
   "name": "python",
   "nbconvert_exporter": "python",
   "pygments_lexer": "ipython3",
   "version": "3.7.0"
  }
 },
 "nbformat": 4,
 "nbformat_minor": 2
}
